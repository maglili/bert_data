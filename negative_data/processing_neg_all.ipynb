{
 "cells": [
  {
   "cell_type": "markdown",
   "metadata": {},
   "source": [
    "# processing_neg_all\n",
    "\n",
    "Preprocessing the negative data.\n",
    "\n",
    "1. remove no year data\n",
    "2. Fix year in [1985, 2020]"
   ]
  },
  {
   "cell_type": "markdown",
   "metadata": {},
   "source": [
    "## Load data"
   ]
  },
  {
   "cell_type": "code",
   "execution_count": 1,
   "metadata": {},
   "outputs": [],
   "source": [
    "import pandas as pd\n",
    "from tqdm.notebook import tqdm"
   ]
  },
  {
   "cell_type": "code",
   "execution_count": 2,
   "metadata": {},
   "outputs": [
    {
     "output_type": "execute_result",
     "data": {
      "text/plain": [
       "         pmid                                              title  \\\n",
       "0    22115527  Erroneous attribution of relevant transcriptio...   \n",
       "1     2478402  Dorsal expression of the Drosophila z600 gene ...   \n",
       "2     9115734  The Drosophila islet gene governs axon pathfin...   \n",
       "3     7900988  Negative autoregulation by Ultrabithorax contr...   \n",
       "4    24186975  3D chromatin interactions organize Yan chromat...   \n",
       "..        ...                                                ...   \n",
       "714   1363225  Ultrabithorax is a regulator of beta 3 tubulin...   \n",
       "715  20668662  Robust target gene discovery through transcrip...   \n",
       "716  11290304  Drosophila OVO regulates ovarian tumor transcr...   \n",
       "717  23597484  Regional modulation of a stochastically expres...   \n",
       "718   8660878  Disperse versus compact elements for the regul...   \n",
       "\n",
       "                                              abstract  \\\n",
       "0    Background: Cis-regulatory modules are bound b...   \n",
       "1    The Drosophila z600 gene is a member of an ove...   \n",
       "2    We have isolated the Drosophila homolog of the...   \n",
       "3    The Drosophila homeotic gene Ultrabithorax (Ub...   \n",
       "4    Long-range integration of transcriptional inpu...   \n",
       "..                                                 ...   \n",
       "714  beta 3 tubulin expression accompanies the spec...   \n",
       "715  A comprehensive systems-level understanding of...   \n",
       "716  Evolutionarily conserved ovo loci encode devel...   \n",
       "717  Stochastic mechanisms are sometimes utilized t...   \n",
       "718  The segmented body pattern of the Drosophila e...   \n",
       "\n",
       "                               doi  year  \\\n",
       "0         10.1186/1471-2164-12-578  2011   \n",
       "1     10.1016/0012-1606(89)90143-7  1989   \n",
       "2    10.1016/s0896-6273(00)81241-6  1997   \n",
       "3                                   1993   \n",
       "4           10.1101/gad.225789.113  2013   \n",
       "..                             ...   ...   \n",
       "714                                 1992   \n",
       "715   10.1371/journal.pbio.1000435  2010   \n",
       "716                                 2001   \n",
       "717   10.1016/j.devcel.2013.02.016  2013   \n",
       "718         10.1006/dbio.1996.0146  1996   \n",
       "\n",
       "                                               authors  \n",
       "0    Marc S Halfon, Qianqian Zhu, Elizabeth R Brenn...  \n",
       "1                               R A Schulz, J L Miksch  \n",
       "2                                   S Thor, J B Thomas  \n",
       "3    K D Irvine, J Botas, S Jha, R S Mann, D S Hogness  \n",
       "4    Jemma L Webber, Jie Zhang, Aaron Mitchell-Dick...  \n",
       "..                                                 ...  \n",
       "714                   U Hinz, A Wolk, R Renkawitz-Pohl  \n",
       "715  Stein Aerts, Xiao-Jiang Quan, Annelies Claeys,...  \n",
       "716                                     J Lü, B Oliver  \n",
       "717  Shivani U Thanawala, Jens Rister, Gregory W Go...  \n",
       "718          M Klingler, J Soong, B Butler, J P Gergen  \n",
       "\n",
       "[719 rows x 6 columns]"
      ],
      "text/html": "<div>\n<style scoped>\n    .dataframe tbody tr th:only-of-type {\n        vertical-align: middle;\n    }\n\n    .dataframe tbody tr th {\n        vertical-align: top;\n    }\n\n    .dataframe thead th {\n        text-align: right;\n    }\n</style>\n<table border=\"1\" class=\"dataframe\">\n  <thead>\n    <tr style=\"text-align: right;\">\n      <th></th>\n      <th>pmid</th>\n      <th>title</th>\n      <th>abstract</th>\n      <th>doi</th>\n      <th>year</th>\n      <th>authors</th>\n    </tr>\n  </thead>\n  <tbody>\n    <tr>\n      <th>0</th>\n      <td>22115527</td>\n      <td>Erroneous attribution of relevant transcriptio...</td>\n      <td>Background: Cis-regulatory modules are bound b...</td>\n      <td>10.1186/1471-2164-12-578</td>\n      <td>2011</td>\n      <td>Marc S Halfon, Qianqian Zhu, Elizabeth R Brenn...</td>\n    </tr>\n    <tr>\n      <th>1</th>\n      <td>2478402</td>\n      <td>Dorsal expression of the Drosophila z600 gene ...</td>\n      <td>The Drosophila z600 gene is a member of an ove...</td>\n      <td>10.1016/0012-1606(89)90143-7</td>\n      <td>1989</td>\n      <td>R A Schulz, J L Miksch</td>\n    </tr>\n    <tr>\n      <th>2</th>\n      <td>9115734</td>\n      <td>The Drosophila islet gene governs axon pathfin...</td>\n      <td>We have isolated the Drosophila homolog of the...</td>\n      <td>10.1016/s0896-6273(00)81241-6</td>\n      <td>1997</td>\n      <td>S Thor, J B Thomas</td>\n    </tr>\n    <tr>\n      <th>3</th>\n      <td>7900988</td>\n      <td>Negative autoregulation by Ultrabithorax contr...</td>\n      <td>The Drosophila homeotic gene Ultrabithorax (Ub...</td>\n      <td></td>\n      <td>1993</td>\n      <td>K D Irvine, J Botas, S Jha, R S Mann, D S Hogness</td>\n    </tr>\n    <tr>\n      <th>4</th>\n      <td>24186975</td>\n      <td>3D chromatin interactions organize Yan chromat...</td>\n      <td>Long-range integration of transcriptional inpu...</td>\n      <td>10.1101/gad.225789.113</td>\n      <td>2013</td>\n      <td>Jemma L Webber, Jie Zhang, Aaron Mitchell-Dick...</td>\n    </tr>\n    <tr>\n      <th>...</th>\n      <td>...</td>\n      <td>...</td>\n      <td>...</td>\n      <td>...</td>\n      <td>...</td>\n      <td>...</td>\n    </tr>\n    <tr>\n      <th>714</th>\n      <td>1363225</td>\n      <td>Ultrabithorax is a regulator of beta 3 tubulin...</td>\n      <td>beta 3 tubulin expression accompanies the spec...</td>\n      <td></td>\n      <td>1992</td>\n      <td>U Hinz, A Wolk, R Renkawitz-Pohl</td>\n    </tr>\n    <tr>\n      <th>715</th>\n      <td>20668662</td>\n      <td>Robust target gene discovery through transcrip...</td>\n      <td>A comprehensive systems-level understanding of...</td>\n      <td>10.1371/journal.pbio.1000435</td>\n      <td>2010</td>\n      <td>Stein Aerts, Xiao-Jiang Quan, Annelies Claeys,...</td>\n    </tr>\n    <tr>\n      <th>716</th>\n      <td>11290304</td>\n      <td>Drosophila OVO regulates ovarian tumor transcr...</td>\n      <td>Evolutionarily conserved ovo loci encode devel...</td>\n      <td></td>\n      <td>2001</td>\n      <td>J Lü, B Oliver</td>\n    </tr>\n    <tr>\n      <th>717</th>\n      <td>23597484</td>\n      <td>Regional modulation of a stochastically expres...</td>\n      <td>Stochastic mechanisms are sometimes utilized t...</td>\n      <td>10.1016/j.devcel.2013.02.016</td>\n      <td>2013</td>\n      <td>Shivani U Thanawala, Jens Rister, Gregory W Go...</td>\n    </tr>\n    <tr>\n      <th>718</th>\n      <td>8660878</td>\n      <td>Disperse versus compact elements for the regul...</td>\n      <td>The segmented body pattern of the Drosophila e...</td>\n      <td>10.1006/dbio.1996.0146</td>\n      <td>1996</td>\n      <td>M Klingler, J Soong, B Butler, J P Gergen</td>\n    </tr>\n  </tbody>\n</table>\n<p>719 rows × 6 columns</p>\n</div>"
     },
     "metadata": {},
     "execution_count": 2
    }
   ],
   "source": [
    "# pos data\n",
    "pos_df = pd.read_csv('../csv_data/train.csv', squeeze=True, encoding='utf-8', dtype=str)\n",
    "pos_df = pos_df.fillna('')\n",
    "pos_pmid = pos_df['pmid'].to_list()\n",
    "pos_df"
   ]
  },
  {
   "cell_type": "code",
   "execution_count": 3,
   "metadata": {},
   "outputs": [
    {
     "output_type": "execute_result",
     "data": {
      "text/plain": [
       "                                                   title      pmid  \\\n",
       "0      The microbiota of Drosophila suzukii influence...  31763075   \n",
       "1      Evolution of a central neural circuit underlie...  29995860   \n",
       "2      Immunity in Drosophila melanogaster--from micr...  25421701   \n",
       "3      Carnivory in the larvae of Drosophila melanoga...  30341324   \n",
       "4            Can Drosophila melanogaster tell who's who?  30356241   \n",
       "...                                                  ...       ...   \n",
       "93113                 The ins and outs of EGFR asymmetry  20723751   \n",
       "93114  Cloning of CDP-diacylglycerol synthase from a ...   8863531   \n",
       "93115  Acclimation and selection for increased resist...   8852846   \n",
       "93116  Synergistic effects on dopamine cell death in ...  25160001   \n",
       "93117  Passive mechanical forces control cell-shape c...  25140436   \n",
       "\n",
       "                                       doi  \\\n",
       "0                       10.7717/peerj.8097   \n",
       "1                10.1038/s41586-018-0322-9   \n",
       "2                          10.1038/nri3763   \n",
       "3               10.1038/s41598-018-33906-w   \n",
       "4             10.1371/journal.pone.0205043   \n",
       "...                                    ...   \n",
       "93113           10.1016/j.cell.2010.08.003   \n",
       "93114  10.1046/j.1471-4159.1996.67052200.x   \n",
       "93115                                        \n",
       "93116          10.1016/j.neuro.2014.08.005   \n",
       "93117            10.1016/j.bpj.2014.07.013   \n",
       "\n",
       "                                                abstract  year  \\\n",
       "0      Microorganisms play a central role in the biol...  2019   \n",
       "1      Courtship rituals serve to reinforce reproduct...  2018   \n",
       "2      Since the discovery of antimicrobial peptide r...  2014   \n",
       "3      Drosophila melanogaster is widely used as a mo...  2018   \n",
       "4      Drosophila melanogaster are known to live in a...  2018   \n",
       "...                                                  ...   ...   \n",
       "93113  The epidermal growth factor receptor (EGFR) re...  2010   \n",
       "93114  A critical step in the supply of substrate for...  1996   \n",
       "93115  Direct selection for increased resistance to a...  1996   \n",
       "93116  The neurodegenerative effects of Parkinson's d...  2014   \n",
       "93117  During Drosophila gastrulation, the ventral me...  2014   \n",
       "\n",
       "                                                 authors  \n",
       "0      Hiruni Dodangoda, Rita Ntim-Gyakari, Peter D N...  \n",
       "1      David L Stern, Vanessa Ruta, Laura F Seeholzer...  \n",
       "2            Sara Cherry, Nicolas Buchon, Neal Silverman  \n",
       "3                                           Daxiang Yang  \n",
       "4      Jonathan Schneider, Nihal Murali, Graham W Tay...  \n",
       "...                                                  ...  \n",
       "93113                                     Daniel J Leahy  \n",
       "93114               M D Uhler, A M Heacock, B W Agranoff  \n",
       "93115                             R A Krebs, V Loeschcke  \n",
       "93116  Vanessa Nunez, David E Krantz, Khadij Assani, ...  \n",
       "93117  Michael Swan, Joshua W Shaevitz, Bing He, Oleg...  \n",
       "\n",
       "[93118 rows x 6 columns]"
      ],
      "text/html": "<div>\n<style scoped>\n    .dataframe tbody tr th:only-of-type {\n        vertical-align: middle;\n    }\n\n    .dataframe tbody tr th {\n        vertical-align: top;\n    }\n\n    .dataframe thead th {\n        text-align: right;\n    }\n</style>\n<table border=\"1\" class=\"dataframe\">\n  <thead>\n    <tr style=\"text-align: right;\">\n      <th></th>\n      <th>title</th>\n      <th>pmid</th>\n      <th>doi</th>\n      <th>abstract</th>\n      <th>year</th>\n      <th>authors</th>\n    </tr>\n  </thead>\n  <tbody>\n    <tr>\n      <th>0</th>\n      <td>The microbiota of Drosophila suzukii influence...</td>\n      <td>31763075</td>\n      <td>10.7717/peerj.8097</td>\n      <td>Microorganisms play a central role in the biol...</td>\n      <td>2019</td>\n      <td>Hiruni Dodangoda, Rita Ntim-Gyakari, Peter D N...</td>\n    </tr>\n    <tr>\n      <th>1</th>\n      <td>Evolution of a central neural circuit underlie...</td>\n      <td>29995860</td>\n      <td>10.1038/s41586-018-0322-9</td>\n      <td>Courtship rituals serve to reinforce reproduct...</td>\n      <td>2018</td>\n      <td>David L Stern, Vanessa Ruta, Laura F Seeholzer...</td>\n    </tr>\n    <tr>\n      <th>2</th>\n      <td>Immunity in Drosophila melanogaster--from micr...</td>\n      <td>25421701</td>\n      <td>10.1038/nri3763</td>\n      <td>Since the discovery of antimicrobial peptide r...</td>\n      <td>2014</td>\n      <td>Sara Cherry, Nicolas Buchon, Neal Silverman</td>\n    </tr>\n    <tr>\n      <th>3</th>\n      <td>Carnivory in the larvae of Drosophila melanoga...</td>\n      <td>30341324</td>\n      <td>10.1038/s41598-018-33906-w</td>\n      <td>Drosophila melanogaster is widely used as a mo...</td>\n      <td>2018</td>\n      <td>Daxiang Yang</td>\n    </tr>\n    <tr>\n      <th>4</th>\n      <td>Can Drosophila melanogaster tell who's who?</td>\n      <td>30356241</td>\n      <td>10.1371/journal.pone.0205043</td>\n      <td>Drosophila melanogaster are known to live in a...</td>\n      <td>2018</td>\n      <td>Jonathan Schneider, Nihal Murali, Graham W Tay...</td>\n    </tr>\n    <tr>\n      <th>...</th>\n      <td>...</td>\n      <td>...</td>\n      <td>...</td>\n      <td>...</td>\n      <td>...</td>\n      <td>...</td>\n    </tr>\n    <tr>\n      <th>93113</th>\n      <td>The ins and outs of EGFR asymmetry</td>\n      <td>20723751</td>\n      <td>10.1016/j.cell.2010.08.003</td>\n      <td>The epidermal growth factor receptor (EGFR) re...</td>\n      <td>2010</td>\n      <td>Daniel J Leahy</td>\n    </tr>\n    <tr>\n      <th>93114</th>\n      <td>Cloning of CDP-diacylglycerol synthase from a ...</td>\n      <td>8863531</td>\n      <td>10.1046/j.1471-4159.1996.67052200.x</td>\n      <td>A critical step in the supply of substrate for...</td>\n      <td>1996</td>\n      <td>M D Uhler, A M Heacock, B W Agranoff</td>\n    </tr>\n    <tr>\n      <th>93115</th>\n      <td>Acclimation and selection for increased resist...</td>\n      <td>8852846</td>\n      <td></td>\n      <td>Direct selection for increased resistance to a...</td>\n      <td>1996</td>\n      <td>R A Krebs, V Loeschcke</td>\n    </tr>\n    <tr>\n      <th>93116</th>\n      <td>Synergistic effects on dopamine cell death in ...</td>\n      <td>25160001</td>\n      <td>10.1016/j.neuro.2014.08.005</td>\n      <td>The neurodegenerative effects of Parkinson's d...</td>\n      <td>2014</td>\n      <td>Vanessa Nunez, David E Krantz, Khadij Assani, ...</td>\n    </tr>\n    <tr>\n      <th>93117</th>\n      <td>Passive mechanical forces control cell-shape c...</td>\n      <td>25140436</td>\n      <td>10.1016/j.bpj.2014.07.013</td>\n      <td>During Drosophila gastrulation, the ventral me...</td>\n      <td>2014</td>\n      <td>Michael Swan, Joshua W Shaevitz, Bing He, Oleg...</td>\n    </tr>\n  </tbody>\n</table>\n<p>93118 rows × 6 columns</p>\n</div>"
     },
     "metadata": {},
     "execution_count": 3
    }
   ],
   "source": [
    "neg_df = pd.read_csv('../csv_data/neg_all-combine.csv', encoding='utf-8', dtype=str, header=None)\n",
    "neg_df.columns = ['title','pmid','doi','abstract','year','authors']\n",
    "neg_df = neg_df.fillna('')\n",
    "neg_df"
   ]
  },
  {
   "cell_type": "markdown",
   "metadata": {},
   "source": [
    "## Processing year\n",
    "\n",
    "1. remove rundant white space\n",
    "2. fix year in [1985, 2020]"
   ]
  },
  {
   "cell_type": "code",
   "execution_count": 4,
   "metadata": {},
   "outputs": [],
   "source": [
    "remove_idx = []\n",
    "\n",
    "for idx in range(len(neg_df)):\n",
    "    # Check if remove redundant while space\n",
    "    ori_abs = neg_df.iloc[idx]['abstract']\n",
    "    ori_spl = ori_abs.split()\n",
    "    aft_abs = ' '.join(ori_spl)\n",
    "    if not (ori_abs == aft_abs):\n",
    "        print('error:',idx)\n",
    "    \n",
    "    # remove invalid year\n",
    "    if not (neg_df.iloc[idx]['year']).isnumeric(): # remove empty year\n",
    "        remove_idx.append(idx)\n",
    "    elif (int(neg_df.iloc[idx]['year'])>2020) or (int(neg_df.iloc[idx]['year'])<1985): # remove invalid year\n",
    "        remove_idx.append(idx)"
   ]
  },
  {
   "cell_type": "code",
   "execution_count": 5,
   "metadata": {},
   "outputs": [
    {
     "output_type": "stream",
     "name": "stdout",
     "text": [
      "len of remove_idx: 10065\nlen of remove_idx: 10065\n"
     ]
    }
   ],
   "source": [
    "print('len of remove_idx:', len(remove_idx))\n",
    "remove_idx = list(set(remove_idx))\n",
    "print('len of remove_idx:', len(remove_idx))"
   ]
  },
  {
   "cell_type": "code",
   "execution_count": 6,
   "metadata": {},
   "outputs": [
    {
     "output_type": "execute_result",
     "data": {
      "text/plain": [
       "                                                   title      pmid  \\\n",
       "0      The microbiota of Drosophila suzukii influence...  31763075   \n",
       "1      Evolution of a central neural circuit underlie...  29995860   \n",
       "2      Immunity in Drosophila melanogaster--from micr...  25421701   \n",
       "3      Carnivory in the larvae of Drosophila melanoga...  30341324   \n",
       "4            Can Drosophila melanogaster tell who's who?  30356241   \n",
       "...                                                  ...       ...   \n",
       "83048                 The ins and outs of EGFR asymmetry  20723751   \n",
       "83049  Cloning of CDP-diacylglycerol synthase from a ...   8863531   \n",
       "83050  Acclimation and selection for increased resist...   8852846   \n",
       "83051  Synergistic effects on dopamine cell death in ...  25160001   \n",
       "83052  Passive mechanical forces control cell-shape c...  25140436   \n",
       "\n",
       "                                       doi  \\\n",
       "0                       10.7717/peerj.8097   \n",
       "1                10.1038/s41586-018-0322-9   \n",
       "2                          10.1038/nri3763   \n",
       "3               10.1038/s41598-018-33906-w   \n",
       "4             10.1371/journal.pone.0205043   \n",
       "...                                    ...   \n",
       "83048           10.1016/j.cell.2010.08.003   \n",
       "83049  10.1046/j.1471-4159.1996.67052200.x   \n",
       "83050                                        \n",
       "83051          10.1016/j.neuro.2014.08.005   \n",
       "83052            10.1016/j.bpj.2014.07.013   \n",
       "\n",
       "                                                abstract  year  \\\n",
       "0      Microorganisms play a central role in the biol...  2019   \n",
       "1      Courtship rituals serve to reinforce reproduct...  2018   \n",
       "2      Since the discovery of antimicrobial peptide r...  2014   \n",
       "3      Drosophila melanogaster is widely used as a mo...  2018   \n",
       "4      Drosophila melanogaster are known to live in a...  2018   \n",
       "...                                                  ...   ...   \n",
       "83048  The epidermal growth factor receptor (EGFR) re...  2010   \n",
       "83049  A critical step in the supply of substrate for...  1996   \n",
       "83050  Direct selection for increased resistance to a...  1996   \n",
       "83051  The neurodegenerative effects of Parkinson's d...  2014   \n",
       "83052  During Drosophila gastrulation, the ventral me...  2014   \n",
       "\n",
       "                                                 authors  \n",
       "0      Hiruni Dodangoda, Rita Ntim-Gyakari, Peter D N...  \n",
       "1      David L Stern, Vanessa Ruta, Laura F Seeholzer...  \n",
       "2            Sara Cherry, Nicolas Buchon, Neal Silverman  \n",
       "3                                           Daxiang Yang  \n",
       "4      Jonathan Schneider, Nihal Murali, Graham W Tay...  \n",
       "...                                                  ...  \n",
       "83048                                     Daniel J Leahy  \n",
       "83049               M D Uhler, A M Heacock, B W Agranoff  \n",
       "83050                             R A Krebs, V Loeschcke  \n",
       "83051  Vanessa Nunez, David E Krantz, Khadij Assani, ...  \n",
       "83052  Michael Swan, Joshua W Shaevitz, Bing He, Oleg...  \n",
       "\n",
       "[83053 rows x 6 columns]"
      ],
      "text/html": "<div>\n<style scoped>\n    .dataframe tbody tr th:only-of-type {\n        vertical-align: middle;\n    }\n\n    .dataframe tbody tr th {\n        vertical-align: top;\n    }\n\n    .dataframe thead th {\n        text-align: right;\n    }\n</style>\n<table border=\"1\" class=\"dataframe\">\n  <thead>\n    <tr style=\"text-align: right;\">\n      <th></th>\n      <th>title</th>\n      <th>pmid</th>\n      <th>doi</th>\n      <th>abstract</th>\n      <th>year</th>\n      <th>authors</th>\n    </tr>\n  </thead>\n  <tbody>\n    <tr>\n      <th>0</th>\n      <td>The microbiota of Drosophila suzukii influence...</td>\n      <td>31763075</td>\n      <td>10.7717/peerj.8097</td>\n      <td>Microorganisms play a central role in the biol...</td>\n      <td>2019</td>\n      <td>Hiruni Dodangoda, Rita Ntim-Gyakari, Peter D N...</td>\n    </tr>\n    <tr>\n      <th>1</th>\n      <td>Evolution of a central neural circuit underlie...</td>\n      <td>29995860</td>\n      <td>10.1038/s41586-018-0322-9</td>\n      <td>Courtship rituals serve to reinforce reproduct...</td>\n      <td>2018</td>\n      <td>David L Stern, Vanessa Ruta, Laura F Seeholzer...</td>\n    </tr>\n    <tr>\n      <th>2</th>\n      <td>Immunity in Drosophila melanogaster--from micr...</td>\n      <td>25421701</td>\n      <td>10.1038/nri3763</td>\n      <td>Since the discovery of antimicrobial peptide r...</td>\n      <td>2014</td>\n      <td>Sara Cherry, Nicolas Buchon, Neal Silverman</td>\n    </tr>\n    <tr>\n      <th>3</th>\n      <td>Carnivory in the larvae of Drosophila melanoga...</td>\n      <td>30341324</td>\n      <td>10.1038/s41598-018-33906-w</td>\n      <td>Drosophila melanogaster is widely used as a mo...</td>\n      <td>2018</td>\n      <td>Daxiang Yang</td>\n    </tr>\n    <tr>\n      <th>4</th>\n      <td>Can Drosophila melanogaster tell who's who?</td>\n      <td>30356241</td>\n      <td>10.1371/journal.pone.0205043</td>\n      <td>Drosophila melanogaster are known to live in a...</td>\n      <td>2018</td>\n      <td>Jonathan Schneider, Nihal Murali, Graham W Tay...</td>\n    </tr>\n    <tr>\n      <th>...</th>\n      <td>...</td>\n      <td>...</td>\n      <td>...</td>\n      <td>...</td>\n      <td>...</td>\n      <td>...</td>\n    </tr>\n    <tr>\n      <th>83048</th>\n      <td>The ins and outs of EGFR asymmetry</td>\n      <td>20723751</td>\n      <td>10.1016/j.cell.2010.08.003</td>\n      <td>The epidermal growth factor receptor (EGFR) re...</td>\n      <td>2010</td>\n      <td>Daniel J Leahy</td>\n    </tr>\n    <tr>\n      <th>83049</th>\n      <td>Cloning of CDP-diacylglycerol synthase from a ...</td>\n      <td>8863531</td>\n      <td>10.1046/j.1471-4159.1996.67052200.x</td>\n      <td>A critical step in the supply of substrate for...</td>\n      <td>1996</td>\n      <td>M D Uhler, A M Heacock, B W Agranoff</td>\n    </tr>\n    <tr>\n      <th>83050</th>\n      <td>Acclimation and selection for increased resist...</td>\n      <td>8852846</td>\n      <td></td>\n      <td>Direct selection for increased resistance to a...</td>\n      <td>1996</td>\n      <td>R A Krebs, V Loeschcke</td>\n    </tr>\n    <tr>\n      <th>83051</th>\n      <td>Synergistic effects on dopamine cell death in ...</td>\n      <td>25160001</td>\n      <td>10.1016/j.neuro.2014.08.005</td>\n      <td>The neurodegenerative effects of Parkinson's d...</td>\n      <td>2014</td>\n      <td>Vanessa Nunez, David E Krantz, Khadij Assani, ...</td>\n    </tr>\n    <tr>\n      <th>83052</th>\n      <td>Passive mechanical forces control cell-shape c...</td>\n      <td>25140436</td>\n      <td>10.1016/j.bpj.2014.07.013</td>\n      <td>During Drosophila gastrulation, the ventral me...</td>\n      <td>2014</td>\n      <td>Michael Swan, Joshua W Shaevitz, Bing He, Oleg...</td>\n    </tr>\n  </tbody>\n</table>\n<p>83053 rows × 6 columns</p>\n</div>"
     },
     "metadata": {},
     "execution_count": 6
    }
   ],
   "source": [
    "neg_df = neg_df.drop(remove_idx).reset_index(drop=True)\n",
    "neg_df"
   ]
  },
  {
   "cell_type": "markdown",
   "metadata": {},
   "source": [
    "## Processing abstract\n",
    "\n",
    "remove:\n",
    "\n",
    "1. positive data appear in negative\n",
    "2. abstract = ''\n",
    "3. avstract = 'No abstract avalible'"
   ]
  },
  {
   "cell_type": "code",
   "execution_count": 7,
   "metadata": {},
   "outputs": [
    {
     "output_type": "display_data",
     "data": {
      "text/plain": "HBox(children=(HTML(value=''), FloatProgress(value=0.0, max=83053.0), HTML(value='')))",
      "application/vnd.jupyter.widget-view+json": {
       "version_major": 2,
       "version_minor": 0,
       "model_id": "f1289e6b3e5a45d6b1ea0fa3ad7517cc"
      }
     },
     "metadata": {}
    },
    {
     "output_type": "stream",
     "name": "stdout",
     "text": [
      "\nremove samples: 2790\npmid error: 699\nabst error: 2091\n"
     ]
    },
    {
     "output_type": "execute_result",
     "data": {
      "text/plain": [
       "                                                   title      pmid  \\\n",
       "0      The microbiota of Drosophila suzukii influence...  31763075   \n",
       "1      Evolution of a central neural circuit underlie...  29995860   \n",
       "2      Immunity in Drosophila melanogaster--from micr...  25421701   \n",
       "3      Carnivory in the larvae of Drosophila melanoga...  30341324   \n",
       "4            Can Drosophila melanogaster tell who's who?  30356241   \n",
       "...                                                  ...       ...   \n",
       "80258                 The ins and outs of EGFR asymmetry  20723751   \n",
       "80259  Cloning of CDP-diacylglycerol synthase from a ...   8863531   \n",
       "80260  Acclimation and selection for increased resist...   8852846   \n",
       "80261  Synergistic effects on dopamine cell death in ...  25160001   \n",
       "80262  Passive mechanical forces control cell-shape c...  25140436   \n",
       "\n",
       "                                       doi  \\\n",
       "0                       10.7717/peerj.8097   \n",
       "1                10.1038/s41586-018-0322-9   \n",
       "2                          10.1038/nri3763   \n",
       "3               10.1038/s41598-018-33906-w   \n",
       "4             10.1371/journal.pone.0205043   \n",
       "...                                    ...   \n",
       "80258           10.1016/j.cell.2010.08.003   \n",
       "80259  10.1046/j.1471-4159.1996.67052200.x   \n",
       "80260                                        \n",
       "80261          10.1016/j.neuro.2014.08.005   \n",
       "80262            10.1016/j.bpj.2014.07.013   \n",
       "\n",
       "                                                abstract  year  \\\n",
       "0      Microorganisms play a central role in the biol...  2019   \n",
       "1      Courtship rituals serve to reinforce reproduct...  2018   \n",
       "2      Since the discovery of antimicrobial peptide r...  2014   \n",
       "3      Drosophila melanogaster is widely used as a mo...  2018   \n",
       "4      Drosophila melanogaster are known to live in a...  2018   \n",
       "...                                                  ...   ...   \n",
       "80258  The epidermal growth factor receptor (EGFR) re...  2010   \n",
       "80259  A critical step in the supply of substrate for...  1996   \n",
       "80260  Direct selection for increased resistance to a...  1996   \n",
       "80261  The neurodegenerative effects of Parkinson's d...  2014   \n",
       "80262  During Drosophila gastrulation, the ventral me...  2014   \n",
       "\n",
       "                                                 authors  \n",
       "0      Hiruni Dodangoda, Rita Ntim-Gyakari, Peter D N...  \n",
       "1      David L Stern, Vanessa Ruta, Laura F Seeholzer...  \n",
       "2            Sara Cherry, Nicolas Buchon, Neal Silverman  \n",
       "3                                           Daxiang Yang  \n",
       "4      Jonathan Schneider, Nihal Murali, Graham W Tay...  \n",
       "...                                                  ...  \n",
       "80258                                     Daniel J Leahy  \n",
       "80259               M D Uhler, A M Heacock, B W Agranoff  \n",
       "80260                             R A Krebs, V Loeschcke  \n",
       "80261  Vanessa Nunez, David E Krantz, Khadij Assani, ...  \n",
       "80262  Michael Swan, Joshua W Shaevitz, Bing He, Oleg...  \n",
       "\n",
       "[80263 rows x 6 columns]"
      ],
      "text/html": "<div>\n<style scoped>\n    .dataframe tbody tr th:only-of-type {\n        vertical-align: middle;\n    }\n\n    .dataframe tbody tr th {\n        vertical-align: top;\n    }\n\n    .dataframe thead th {\n        text-align: right;\n    }\n</style>\n<table border=\"1\" class=\"dataframe\">\n  <thead>\n    <tr style=\"text-align: right;\">\n      <th></th>\n      <th>title</th>\n      <th>pmid</th>\n      <th>doi</th>\n      <th>abstract</th>\n      <th>year</th>\n      <th>authors</th>\n    </tr>\n  </thead>\n  <tbody>\n    <tr>\n      <th>0</th>\n      <td>The microbiota of Drosophila suzukii influence...</td>\n      <td>31763075</td>\n      <td>10.7717/peerj.8097</td>\n      <td>Microorganisms play a central role in the biol...</td>\n      <td>2019</td>\n      <td>Hiruni Dodangoda, Rita Ntim-Gyakari, Peter D N...</td>\n    </tr>\n    <tr>\n      <th>1</th>\n      <td>Evolution of a central neural circuit underlie...</td>\n      <td>29995860</td>\n      <td>10.1038/s41586-018-0322-9</td>\n      <td>Courtship rituals serve to reinforce reproduct...</td>\n      <td>2018</td>\n      <td>David L Stern, Vanessa Ruta, Laura F Seeholzer...</td>\n    </tr>\n    <tr>\n      <th>2</th>\n      <td>Immunity in Drosophila melanogaster--from micr...</td>\n      <td>25421701</td>\n      <td>10.1038/nri3763</td>\n      <td>Since the discovery of antimicrobial peptide r...</td>\n      <td>2014</td>\n      <td>Sara Cherry, Nicolas Buchon, Neal Silverman</td>\n    </tr>\n    <tr>\n      <th>3</th>\n      <td>Carnivory in the larvae of Drosophila melanoga...</td>\n      <td>30341324</td>\n      <td>10.1038/s41598-018-33906-w</td>\n      <td>Drosophila melanogaster is widely used as a mo...</td>\n      <td>2018</td>\n      <td>Daxiang Yang</td>\n    </tr>\n    <tr>\n      <th>4</th>\n      <td>Can Drosophila melanogaster tell who's who?</td>\n      <td>30356241</td>\n      <td>10.1371/journal.pone.0205043</td>\n      <td>Drosophila melanogaster are known to live in a...</td>\n      <td>2018</td>\n      <td>Jonathan Schneider, Nihal Murali, Graham W Tay...</td>\n    </tr>\n    <tr>\n      <th>...</th>\n      <td>...</td>\n      <td>...</td>\n      <td>...</td>\n      <td>...</td>\n      <td>...</td>\n      <td>...</td>\n    </tr>\n    <tr>\n      <th>80258</th>\n      <td>The ins and outs of EGFR asymmetry</td>\n      <td>20723751</td>\n      <td>10.1016/j.cell.2010.08.003</td>\n      <td>The epidermal growth factor receptor (EGFR) re...</td>\n      <td>2010</td>\n      <td>Daniel J Leahy</td>\n    </tr>\n    <tr>\n      <th>80259</th>\n      <td>Cloning of CDP-diacylglycerol synthase from a ...</td>\n      <td>8863531</td>\n      <td>10.1046/j.1471-4159.1996.67052200.x</td>\n      <td>A critical step in the supply of substrate for...</td>\n      <td>1996</td>\n      <td>M D Uhler, A M Heacock, B W Agranoff</td>\n    </tr>\n    <tr>\n      <th>80260</th>\n      <td>Acclimation and selection for increased resist...</td>\n      <td>8852846</td>\n      <td></td>\n      <td>Direct selection for increased resistance to a...</td>\n      <td>1996</td>\n      <td>R A Krebs, V Loeschcke</td>\n    </tr>\n    <tr>\n      <th>80261</th>\n      <td>Synergistic effects on dopamine cell death in ...</td>\n      <td>25160001</td>\n      <td>10.1016/j.neuro.2014.08.005</td>\n      <td>The neurodegenerative effects of Parkinson's d...</td>\n      <td>2014</td>\n      <td>Vanessa Nunez, David E Krantz, Khadij Assani, ...</td>\n    </tr>\n    <tr>\n      <th>80262</th>\n      <td>Passive mechanical forces control cell-shape c...</td>\n      <td>25140436</td>\n      <td>10.1016/j.bpj.2014.07.013</td>\n      <td>During Drosophila gastrulation, the ventral me...</td>\n      <td>2014</td>\n      <td>Michael Swan, Joshua W Shaevitz, Bing He, Oleg...</td>\n    </tr>\n  </tbody>\n</table>\n<p>80263 rows × 6 columns</p>\n</div>"
     },
     "metadata": {},
     "execution_count": 7
    }
   ],
   "source": [
    "pmid_err = 0\n",
    "abst_err = 0\n",
    "remove_list = []\n",
    "\n",
    "for i in tqdm(range(len(neg_df))):\n",
    "    pmid = neg_df.iloc[i]['pmid']\n",
    "    abst = neg_df.iloc[i]['abstract']\n",
    "    if pmid in pos_pmid:\n",
    "        pmid_err += 1\n",
    "        remove_list.append(i)\n",
    "    if (abst == 'No abstract available') or (abst == ''):\n",
    "        abst_err += 1\n",
    "        remove_list.append(i)\n",
    "\n",
    "remove_list = list(set(remove_list))\n",
    "print('remove samples:', pmid_err+abst_err)\n",
    "print('pmid error:', pmid_err)\n",
    "print('abst error:', abst_err)\n",
    "\n",
    "neg_df = neg_df.drop(remove_list).reset_index(drop=True)\n",
    "neg_df.to_csv('../csv_data/neg_all-final.csv', index = False, encoding = 'utf-8')\n",
    "neg_df"
   ]
  },
  {
   "cell_type": "code",
   "execution_count": null,
   "metadata": {},
   "outputs": [],
   "source": []
  }
 ],
 "metadata": {
  "kernelspec": {
   "name": "python386jvsc74a57bd0f23faf4bfe871c203c8bec80520af5927fc7cb1ae3bd834ddf554ee587ad1c05",
   "display_name": "Python 3.8.6 64-bit"
  },
  "language_info": {
   "codemirror_mode": {
    "name": "ipython",
    "version": 3
   },
   "file_extension": ".py",
   "mimetype": "text/x-python",
   "name": "python",
   "nbconvert_exporter": "python",
   "pygments_lexer": "ipython3",
   "version": "3.8.6"
  }
 },
 "nbformat": 4,
 "nbformat_minor": 4
}